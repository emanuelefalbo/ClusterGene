{
 "cells": [
  {
   "cell_type": "code",
   "execution_count": 1,
   "id": "f8e00062",
   "metadata": {},
   "outputs": [
    {
     "name": "stderr",
     "output_type": "stream",
     "text": [
      "2023-07-14 12:02:28.963872: I tensorflow/core/platform/cpu_feature_guard.cc:182] This TensorFlow binary is optimized to use available CPU instructions in performance-critical operations.\n",
      "To enable the following instructions: SSE4.1 SSE4.2 AVX AVX2 FMA, in other operations, rebuild TensorFlow with the appropriate compiler flags.\n"
     ]
    }
   ],
   "source": [
    "import pandas as pd\n",
    "import numpy as np\n",
    "import matplotlib.pyplot as plt\n",
    "import tensorflow as tf\n",
    "import seaborn as sns\n",
    "from sklearn.model_selection import train_test_split\n",
    "from tensorflow import keras"
   ]
  },
  {
   "cell_type": "code",
   "execution_count": 2,
   "id": "7a394e80",
   "metadata": {},
   "outputs": [
    {
     "data": {
      "text/plain": [
       "'2.12.0'"
      ]
     },
     "execution_count": 2,
     "metadata": {},
     "output_type": "execute_result"
    }
   ],
   "source": [
    "tf.__version__"
   ]
  },
  {
   "cell_type": "code",
   "execution_count": 4,
   "id": "d6e358a6",
   "metadata": {},
   "outputs": [
    {
     "data": {
      "text/html": [
       "<div>\n",
       "<style scoped>\n",
       "    .dataframe tbody tr th:only-of-type {\n",
       "        vertical-align: middle;\n",
       "    }\n",
       "\n",
       "    .dataframe tbody tr th {\n",
       "        vertical-align: top;\n",
       "    }\n",
       "\n",
       "    .dataframe thead th {\n",
       "        text-align: right;\n",
       "    }\n",
       "</style>\n",
       "<table border=\"1\" class=\"dataframe\">\n",
       "  <thead>\n",
       "    <tr style=\"text-align: right;\">\n",
       "      <th></th>\n",
       "      <th>Kidney ACH-000159</th>\n",
       "      <th>Kidney ACH-000189</th>\n",
       "      <th>Kidney ACH-000234</th>\n",
       "      <th>Kidney ACH-000246</th>\n",
       "      <th>Kidney ACH-000250</th>\n",
       "      <th>Kidney ACH-000262</th>\n",
       "      <th>Kidney ACH-000272</th>\n",
       "      <th>Kidney ACH-000313</th>\n",
       "      <th>Kidney ACH-000317</th>\n",
       "      <th>Kidney ACH-000375</th>\n",
       "      <th>...</th>\n",
       "      <th>Kidney ACH-000907</th>\n",
       "      <th>Kidney ACH-001163</th>\n",
       "      <th>Kidney ACH-001194</th>\n",
       "      <th>Kidney ACH-001310</th>\n",
       "      <th>Kidney ACH-001398</th>\n",
       "      <th>Kidney ACH-001532</th>\n",
       "      <th>Kidney ACH-001687</th>\n",
       "      <th>Kidney ACH-001688</th>\n",
       "      <th>Kidney ACH-002150</th>\n",
       "      <th>Kidney ACH-002189</th>\n",
       "    </tr>\n",
       "  </thead>\n",
       "  <tbody>\n",
       "    <tr>\n",
       "      <th>A1BG (1)</th>\n",
       "      <td>-0.098583</td>\n",
       "      <td>0.025497</td>\n",
       "      <td>0.039759</td>\n",
       "      <td>-0.085034</td>\n",
       "      <td>-0.060763</td>\n",
       "      <td>-0.327514</td>\n",
       "      <td>0.023482</td>\n",
       "      <td>-0.047076</td>\n",
       "      <td>0.072916</td>\n",
       "      <td>-0.313158</td>\n",
       "      <td>...</td>\n",
       "      <td>-0.014384</td>\n",
       "      <td>-0.043480</td>\n",
       "      <td>0.170909</td>\n",
       "      <td>-0.133501</td>\n",
       "      <td>0.016807</td>\n",
       "      <td>-0.021419</td>\n",
       "      <td>-0.126049</td>\n",
       "      <td>-0.015302</td>\n",
       "      <td>-0.071998</td>\n",
       "      <td>0.006178</td>\n",
       "    </tr>\n",
       "    <tr>\n",
       "      <th>A1CF (29974)</th>\n",
       "      <td>-0.194067</td>\n",
       "      <td>0.190203</td>\n",
       "      <td>0.003615</td>\n",
       "      <td>-0.016881</td>\n",
       "      <td>-0.025410</td>\n",
       "      <td>0.148797</td>\n",
       "      <td>-0.078053</td>\n",
       "      <td>-0.111188</td>\n",
       "      <td>-0.329842</td>\n",
       "      <td>-0.276735</td>\n",
       "      <td>...</td>\n",
       "      <td>-0.081780</td>\n",
       "      <td>-0.085841</td>\n",
       "      <td>-0.097003</td>\n",
       "      <td>0.016634</td>\n",
       "      <td>0.135088</td>\n",
       "      <td>-0.012608</td>\n",
       "      <td>-0.170539</td>\n",
       "      <td>0.115991</td>\n",
       "      <td>0.163529</td>\n",
       "      <td>-0.200031</td>\n",
       "    </tr>\n",
       "    <tr>\n",
       "      <th>A2M (2)</th>\n",
       "      <td>0.056482</td>\n",
       "      <td>-0.064422</td>\n",
       "      <td>-0.060224</td>\n",
       "      <td>-0.007607</td>\n",
       "      <td>0.038200</td>\n",
       "      <td>0.068109</td>\n",
       "      <td>-0.014195</td>\n",
       "      <td>0.025927</td>\n",
       "      <td>0.027071</td>\n",
       "      <td>-0.172022</td>\n",
       "      <td>...</td>\n",
       "      <td>-0.036533</td>\n",
       "      <td>-0.079882</td>\n",
       "      <td>-0.013476</td>\n",
       "      <td>-0.010148</td>\n",
       "      <td>-0.183250</td>\n",
       "      <td>0.041469</td>\n",
       "      <td>0.137907</td>\n",
       "      <td>-0.229729</td>\n",
       "      <td>-0.098859</td>\n",
       "      <td>-0.038372</td>\n",
       "    </tr>\n",
       "    <tr>\n",
       "      <th>A2ML1 (144568)</th>\n",
       "      <td>-0.043275</td>\n",
       "      <td>0.214010</td>\n",
       "      <td>0.081227</td>\n",
       "      <td>-0.007732</td>\n",
       "      <td>0.095462</td>\n",
       "      <td>0.034221</td>\n",
       "      <td>0.038967</td>\n",
       "      <td>0.075762</td>\n",
       "      <td>-0.098717</td>\n",
       "      <td>-0.102884</td>\n",
       "      <td>...</td>\n",
       "      <td>0.120296</td>\n",
       "      <td>0.128083</td>\n",
       "      <td>0.167051</td>\n",
       "      <td>0.048080</td>\n",
       "      <td>0.079721</td>\n",
       "      <td>0.085239</td>\n",
       "      <td>0.245497</td>\n",
       "      <td>0.106801</td>\n",
       "      <td>0.096733</td>\n",
       "      <td>0.109694</td>\n",
       "    </tr>\n",
       "    <tr>\n",
       "      <th>A3GALT2 (127550)</th>\n",
       "      <td>0.042775</td>\n",
       "      <td>0.234450</td>\n",
       "      <td>-0.019064</td>\n",
       "      <td>0.047906</td>\n",
       "      <td>-0.096162</td>\n",
       "      <td>-0.055449</td>\n",
       "      <td>-0.204893</td>\n",
       "      <td>-0.164694</td>\n",
       "      <td>-0.188205</td>\n",
       "      <td>0.132969</td>\n",
       "      <td>...</td>\n",
       "      <td>-0.095750</td>\n",
       "      <td>-0.052707</td>\n",
       "      <td>-0.483428</td>\n",
       "      <td>-0.212870</td>\n",
       "      <td>-0.319487</td>\n",
       "      <td>-0.063677</td>\n",
       "      <td>-0.084950</td>\n",
       "      <td>-0.196248</td>\n",
       "      <td>-0.049440</td>\n",
       "      <td>-0.287985</td>\n",
       "    </tr>\n",
       "    <tr>\n",
       "      <th>...</th>\n",
       "      <td>...</td>\n",
       "      <td>...</td>\n",
       "      <td>...</td>\n",
       "      <td>...</td>\n",
       "      <td>...</td>\n",
       "      <td>...</td>\n",
       "      <td>...</td>\n",
       "      <td>...</td>\n",
       "      <td>...</td>\n",
       "      <td>...</td>\n",
       "      <td>...</td>\n",
       "      <td>...</td>\n",
       "      <td>...</td>\n",
       "      <td>...</td>\n",
       "      <td>...</td>\n",
       "      <td>...</td>\n",
       "      <td>...</td>\n",
       "      <td>...</td>\n",
       "      <td>...</td>\n",
       "      <td>...</td>\n",
       "      <td>...</td>\n",
       "    </tr>\n",
       "    <tr>\n",
       "      <th>ZYG11A (440590)</th>\n",
       "      <td>-0.214984</td>\n",
       "      <td>-0.122164</td>\n",
       "      <td>0.061923</td>\n",
       "      <td>0.043799</td>\n",
       "      <td>-0.021958</td>\n",
       "      <td>-0.008360</td>\n",
       "      <td>-0.031557</td>\n",
       "      <td>-0.093109</td>\n",
       "      <td>-0.134824</td>\n",
       "      <td>0.054312</td>\n",
       "      <td>...</td>\n",
       "      <td>-0.243649</td>\n",
       "      <td>-0.022502</td>\n",
       "      <td>-0.030715</td>\n",
       "      <td>-0.190116</td>\n",
       "      <td>0.126185</td>\n",
       "      <td>0.047339</td>\n",
       "      <td>-0.104483</td>\n",
       "      <td>-0.031745</td>\n",
       "      <td>0.062013</td>\n",
       "      <td>-0.098642</td>\n",
       "    </tr>\n",
       "    <tr>\n",
       "      <th>ZYG11B (79699)</th>\n",
       "      <td>-0.222925</td>\n",
       "      <td>-0.429341</td>\n",
       "      <td>-0.168435</td>\n",
       "      <td>-0.200763</td>\n",
       "      <td>-0.124535</td>\n",
       "      <td>-0.254806</td>\n",
       "      <td>-0.211923</td>\n",
       "      <td>-0.242198</td>\n",
       "      <td>-0.083352</td>\n",
       "      <td>-0.181971</td>\n",
       "      <td>...</td>\n",
       "      <td>-0.112868</td>\n",
       "      <td>0.085608</td>\n",
       "      <td>-0.083577</td>\n",
       "      <td>-0.265525</td>\n",
       "      <td>-0.398217</td>\n",
       "      <td>-0.184396</td>\n",
       "      <td>-0.371834</td>\n",
       "      <td>-0.216044</td>\n",
       "      <td>-0.141312</td>\n",
       "      <td>-0.148466</td>\n",
       "    </tr>\n",
       "    <tr>\n",
       "      <th>ZYX (7791)</th>\n",
       "      <td>0.015540</td>\n",
       "      <td>-0.092973</td>\n",
       "      <td>0.032190</td>\n",
       "      <td>-0.330597</td>\n",
       "      <td>-0.081643</td>\n",
       "      <td>-0.224664</td>\n",
       "      <td>-0.050358</td>\n",
       "      <td>-0.028192</td>\n",
       "      <td>-0.123594</td>\n",
       "      <td>-0.496452</td>\n",
       "      <td>...</td>\n",
       "      <td>-0.293738</td>\n",
       "      <td>-0.172174</td>\n",
       "      <td>-0.061577</td>\n",
       "      <td>-0.118704</td>\n",
       "      <td>-0.119744</td>\n",
       "      <td>-0.241001</td>\n",
       "      <td>-0.104015</td>\n",
       "      <td>-0.012809</td>\n",
       "      <td>-0.058903</td>\n",
       "      <td>0.023899</td>\n",
       "    </tr>\n",
       "    <tr>\n",
       "      <th>ZZEF1 (23140)</th>\n",
       "      <td>-0.105381</td>\n",
       "      <td>0.038808</td>\n",
       "      <td>-0.224601</td>\n",
       "      <td>-0.041535</td>\n",
       "      <td>-0.042718</td>\n",
       "      <td>-0.081895</td>\n",
       "      <td>-0.096986</td>\n",
       "      <td>-0.161992</td>\n",
       "      <td>0.188246</td>\n",
       "      <td>0.016271</td>\n",
       "      <td>...</td>\n",
       "      <td>0.016769</td>\n",
       "      <td>-0.259722</td>\n",
       "      <td>-0.129833</td>\n",
       "      <td>-0.392298</td>\n",
       "      <td>0.056096</td>\n",
       "      <td>-0.154736</td>\n",
       "      <td>-0.224777</td>\n",
       "      <td>-0.113155</td>\n",
       "      <td>-0.046388</td>\n",
       "      <td>-0.207682</td>\n",
       "    </tr>\n",
       "    <tr>\n",
       "      <th>ZZZ3 (26009)</th>\n",
       "      <td>-0.352979</td>\n",
       "      <td>-0.221415</td>\n",
       "      <td>-0.195088</td>\n",
       "      <td>-0.130928</td>\n",
       "      <td>-0.233625</td>\n",
       "      <td>-0.448509</td>\n",
       "      <td>-0.207056</td>\n",
       "      <td>-0.229988</td>\n",
       "      <td>-0.210903</td>\n",
       "      <td>-0.149934</td>\n",
       "      <td>...</td>\n",
       "      <td>-0.648854</td>\n",
       "      <td>-0.211701</td>\n",
       "      <td>-0.262912</td>\n",
       "      <td>-0.480038</td>\n",
       "      <td>-0.198600</td>\n",
       "      <td>-0.270174</td>\n",
       "      <td>-0.299130</td>\n",
       "      <td>-0.331012</td>\n",
       "      <td>-0.214030</td>\n",
       "      <td>-0.502854</td>\n",
       "    </tr>\n",
       "  </tbody>\n",
       "</table>\n",
       "<p>17453 rows × 32 columns</p>\n",
       "</div>"
      ],
      "text/plain": [
       "                  Kidney ACH-000159  Kidney ACH-000189  Kidney ACH-000234  \\\n",
       "A1BG (1)                  -0.098583           0.025497           0.039759   \n",
       "A1CF (29974)              -0.194067           0.190203           0.003615   \n",
       "A2M (2)                    0.056482          -0.064422          -0.060224   \n",
       "A2ML1 (144568)            -0.043275           0.214010           0.081227   \n",
       "A3GALT2 (127550)           0.042775           0.234450          -0.019064   \n",
       "...                             ...                ...                ...   \n",
       "ZYG11A (440590)           -0.214984          -0.122164           0.061923   \n",
       "ZYG11B (79699)            -0.222925          -0.429341          -0.168435   \n",
       "ZYX (7791)                 0.015540          -0.092973           0.032190   \n",
       "ZZEF1 (23140)             -0.105381           0.038808          -0.224601   \n",
       "ZZZ3 (26009)              -0.352979          -0.221415          -0.195088   \n",
       "\n",
       "                  Kidney ACH-000246  Kidney ACH-000250  Kidney ACH-000262  \\\n",
       "A1BG (1)                  -0.085034          -0.060763          -0.327514   \n",
       "A1CF (29974)              -0.016881          -0.025410           0.148797   \n",
       "A2M (2)                   -0.007607           0.038200           0.068109   \n",
       "A2ML1 (144568)            -0.007732           0.095462           0.034221   \n",
       "A3GALT2 (127550)           0.047906          -0.096162          -0.055449   \n",
       "...                             ...                ...                ...   \n",
       "ZYG11A (440590)            0.043799          -0.021958          -0.008360   \n",
       "ZYG11B (79699)            -0.200763          -0.124535          -0.254806   \n",
       "ZYX (7791)                -0.330597          -0.081643          -0.224664   \n",
       "ZZEF1 (23140)             -0.041535          -0.042718          -0.081895   \n",
       "ZZZ3 (26009)              -0.130928          -0.233625          -0.448509   \n",
       "\n",
       "                  Kidney ACH-000272  Kidney ACH-000313  Kidney ACH-000317  \\\n",
       "A1BG (1)                   0.023482          -0.047076           0.072916   \n",
       "A1CF (29974)              -0.078053          -0.111188          -0.329842   \n",
       "A2M (2)                   -0.014195           0.025927           0.027071   \n",
       "A2ML1 (144568)             0.038967           0.075762          -0.098717   \n",
       "A3GALT2 (127550)          -0.204893          -0.164694          -0.188205   \n",
       "...                             ...                ...                ...   \n",
       "ZYG11A (440590)           -0.031557          -0.093109          -0.134824   \n",
       "ZYG11B (79699)            -0.211923          -0.242198          -0.083352   \n",
       "ZYX (7791)                -0.050358          -0.028192          -0.123594   \n",
       "ZZEF1 (23140)             -0.096986          -0.161992           0.188246   \n",
       "ZZZ3 (26009)              -0.207056          -0.229988          -0.210903   \n",
       "\n",
       "                  Kidney ACH-000375  ...  Kidney ACH-000907  \\\n",
       "A1BG (1)                  -0.313158  ...          -0.014384   \n",
       "A1CF (29974)              -0.276735  ...          -0.081780   \n",
       "A2M (2)                   -0.172022  ...          -0.036533   \n",
       "A2ML1 (144568)            -0.102884  ...           0.120296   \n",
       "A3GALT2 (127550)           0.132969  ...          -0.095750   \n",
       "...                             ...  ...                ...   \n",
       "ZYG11A (440590)            0.054312  ...          -0.243649   \n",
       "ZYG11B (79699)            -0.181971  ...          -0.112868   \n",
       "ZYX (7791)                -0.496452  ...          -0.293738   \n",
       "ZZEF1 (23140)              0.016271  ...           0.016769   \n",
       "ZZZ3 (26009)              -0.149934  ...          -0.648854   \n",
       "\n",
       "                  Kidney ACH-001163  Kidney ACH-001194  Kidney ACH-001310  \\\n",
       "A1BG (1)                  -0.043480           0.170909          -0.133501   \n",
       "A1CF (29974)              -0.085841          -0.097003           0.016634   \n",
       "A2M (2)                   -0.079882          -0.013476          -0.010148   \n",
       "A2ML1 (144568)             0.128083           0.167051           0.048080   \n",
       "A3GALT2 (127550)          -0.052707          -0.483428          -0.212870   \n",
       "...                             ...                ...                ...   \n",
       "ZYG11A (440590)           -0.022502          -0.030715          -0.190116   \n",
       "ZYG11B (79699)             0.085608          -0.083577          -0.265525   \n",
       "ZYX (7791)                -0.172174          -0.061577          -0.118704   \n",
       "ZZEF1 (23140)             -0.259722          -0.129833          -0.392298   \n",
       "ZZZ3 (26009)              -0.211701          -0.262912          -0.480038   \n",
       "\n",
       "                  Kidney ACH-001398  Kidney ACH-001532  Kidney ACH-001687  \\\n",
       "A1BG (1)                   0.016807          -0.021419          -0.126049   \n",
       "A1CF (29974)               0.135088          -0.012608          -0.170539   \n",
       "A2M (2)                   -0.183250           0.041469           0.137907   \n",
       "A2ML1 (144568)             0.079721           0.085239           0.245497   \n",
       "A3GALT2 (127550)          -0.319487          -0.063677          -0.084950   \n",
       "...                             ...                ...                ...   \n",
       "ZYG11A (440590)            0.126185           0.047339          -0.104483   \n",
       "ZYG11B (79699)            -0.398217          -0.184396          -0.371834   \n",
       "ZYX (7791)                -0.119744          -0.241001          -0.104015   \n",
       "ZZEF1 (23140)              0.056096          -0.154736          -0.224777   \n",
       "ZZZ3 (26009)              -0.198600          -0.270174          -0.299130   \n",
       "\n",
       "                  Kidney ACH-001688  Kidney ACH-002150  Kidney ACH-002189  \n",
       "A1BG (1)                  -0.015302          -0.071998           0.006178  \n",
       "A1CF (29974)               0.115991           0.163529          -0.200031  \n",
       "A2M (2)                   -0.229729          -0.098859          -0.038372  \n",
       "A2ML1 (144568)             0.106801           0.096733           0.109694  \n",
       "A3GALT2 (127550)          -0.196248          -0.049440          -0.287985  \n",
       "...                             ...                ...                ...  \n",
       "ZYG11A (440590)           -0.031745           0.062013          -0.098642  \n",
       "ZYG11B (79699)            -0.216044          -0.141312          -0.148466  \n",
       "ZYX (7791)                -0.012809          -0.058903           0.023899  \n",
       "ZZEF1 (23140)             -0.113155          -0.046388          -0.207682  \n",
       "ZZZ3 (26009)              -0.331012          -0.214030          -0.502854  \n",
       "\n",
       "[17453 rows x 32 columns]"
      ]
     },
     "execution_count": 4,
     "metadata": {},
     "output_type": "execute_result"
    }
   ],
   "source": [
    "data = pd.read_csv(\"/home/emanuele/Postdoc_ICAR/results/Survey_Methods/Sliced_Kidney_depMat.csv\", index_col=0)\n",
    "data "
   ]
  },
  {
   "cell_type": "code",
   "execution_count": 5,
   "id": "47c49399",
   "metadata": {},
   "outputs": [],
   "source": [
    "labels = pd.read_csv(\"/home/emanuele/Postdoc_ICAR/results/Survey_Methods/EPGAT/essential-gene-detection/data/essential_genes/human/EssentialGenes/ogee.csv\", index_col=0)"
   ]
  },
  {
   "cell_type": "code",
   "execution_count": 6,
   "id": "13ccef54",
   "metadata": {},
   "outputs": [],
   "source": [
    "X_full = data.to_numpy()\n",
    "y_full = labels.to_numpy()"
   ]
  },
  {
   "cell_type": "code",
   "execution_count": 7,
   "id": "f508d5cc",
   "metadata": {},
   "outputs": [
    {
     "data": {
      "text/plain": [
       "((17453, 32), (17453, 1))"
      ]
     },
     "execution_count": 7,
     "metadata": {},
     "output_type": "execute_result"
    }
   ],
   "source": [
    "X_full.shape, y_full.shape"
   ]
  },
  {
   "cell_type": "code",
   "execution_count": 8,
   "id": "1b6e84bc",
   "metadata": {},
   "outputs": [],
   "source": [
    "X_train_full, X_test_full, y_train_full, y_test_full, idx_train, idx_test  = train_test_split(X_full, y_full, data.index.tolist(),  test_size=0.20, random_state=42)"
   ]
  },
  {
   "cell_type": "code",
   "execution_count": 9,
   "id": "b64561f6",
   "metadata": {},
   "outputs": [],
   "source": [
    "#X_train, X_valid, y_train, y_valid  = train_test_split(X_full, y_full, data.index.tolist(),  test_size=0.20, random_state=42)"
   ]
  },
  {
   "cell_type": "code",
   "execution_count": 10,
   "id": "55afd2c1",
   "metadata": {},
   "outputs": [
    {
     "data": {
      "text/plain": [
       "((13962, 32), (3491, 32))"
      ]
     },
     "execution_count": 10,
     "metadata": {},
     "output_type": "execute_result"
    }
   ],
   "source": [
    "X_train_full.shape,  X_test_full.shape"
   ]
  },
  {
   "cell_type": "code",
   "execution_count": 11,
   "id": "31bf8c21",
   "metadata": {},
   "outputs": [
    {
     "name": "stderr",
     "output_type": "stream",
     "text": [
      "2023-07-14 12:02:33.545538: I tensorflow/core/common_runtime/process_util.cc:146] Creating new thread pool with default inter op setting: 2. Tune using inter_op_parallelism_threads for best performance.\n"
     ]
    }
   ],
   "source": [
    "tf.random.set_seed(42)\n",
    "\n",
    "model = tf.keras.Sequential([\n",
    "    keras.layers.Flatten(input_shape=X_train_full.shape[1:]),\n",
    "    keras.layers.Dense(128, activation=tf.nn.relu),\n",
    "    keras.layers.Dense(256, activation=tf.nn.relu),\n",
    "    keras.layers.Dense(512, activation=tf.nn.relu),\n",
    "    keras.layers.Dense(1, activation=tf.nn.sigmoid)\n",
    "])"
   ]
  },
  {
   "cell_type": "code",
   "execution_count": 12,
   "id": "61824895",
   "metadata": {},
   "outputs": [
    {
     "name": "stdout",
     "output_type": "stream",
     "text": [
      "Model: \"sequential\"\n",
      "_________________________________________________________________\n",
      " Layer (type)                Output Shape              Param #   \n",
      "=================================================================\n",
      " flatten (Flatten)           (None, 32)                0         \n",
      "                                                                 \n",
      " dense (Dense)               (None, 128)               4224      \n",
      "                                                                 \n",
      " dense_1 (Dense)             (None, 256)               33024     \n",
      "                                                                 \n",
      " dense_2 (Dense)             (None, 512)               131584    \n",
      "                                                                 \n",
      " dense_3 (Dense)             (None, 1)                 513       \n",
      "                                                                 \n",
      "=================================================================\n",
      "Total params: 169,345\n",
      "Trainable params: 169,345\n",
      "Non-trainable params: 0\n",
      "_________________________________________________________________\n"
     ]
    }
   ],
   "source": [
    "model.summary()"
   ]
  },
  {
   "cell_type": "code",
   "execution_count": 13,
   "id": "559fb306",
   "metadata": {},
   "outputs": [
    {
     "data": {
      "image/png": "[encoded data removed]",
      "text/plain": [
       "<IPython.core.display.Image object>"
      ]
     },
     "execution_count": 13,
     "metadata": {},
     "output_type": "execute_result"
    }
   ],
   "source": [
    "tf.keras.utils.plot_model(model)"
   ]
  },
  {
   "cell_type": "code",
   "execution_count": 14,
   "id": "404f5ba8",
   "metadata": {},
   "outputs": [
    {
     "data": {
      "text/plain": [
       "[<keras.layers.reshaping.flatten.Flatten at 0x151d3e1fe910>,\n",
       " <keras.layers.core.dense.Dense at 0x151d3df1c090>,\n",
       " <keras.layers.core.dense.Dense at 0x151d3d023710>,\n",
       " <keras.layers.core.dense.Dense at 0x151d3d06dc10>,\n",
       " <keras.layers.core.dense.Dense at 0x151d3df1fdd0>]"
      ]
     },
     "execution_count": 14,
     "metadata": {},
     "output_type": "execute_result"
    }
   ],
   "source": [
    "model.layers"
   ]
  },
  {
   "cell_type": "code",
   "execution_count": 15,
   "id": "433b4bea",
   "metadata": {},
   "outputs": [],
   "source": [
    "model.compile(loss=tf.keras.losses.binary_crossentropy,\n",
    "             optimizer=tf.keras.optimizers.Adam(),\n",
    "             metrics=['accuracy'])"
   ]
  },
  {
   "cell_type": "code",
   "execution_count": 16,
   "id": "766f628d",
   "metadata": {},
   "outputs": [
    {
     "name": "stdout",
     "output_type": "stream",
     "text": [
      "Epoch 1/30\n",
      "437/437 [==============================] - 8s 13ms/step - loss: 0.1004 - accuracy: 0.9718\n",
      "Epoch 2/30\n",
      "437/437 [==============================] - 6s 14ms/step - loss: 0.0448 - accuracy: 0.9856\n",
      "Epoch 3/30\n",
      "437/437 [==============================] - 6s 13ms/step - loss: 0.0343 - accuracy: 0.9885\n",
      "Epoch 4/30\n",
      "437/437 [==============================] - 6s 14ms/step - loss: 0.0301 - accuracy: 0.9896\n",
      "Epoch 5/30\n",
      "437/437 [==============================] - 7s 15ms/step - loss: 0.0241 - accuracy: 0.9923\n",
      "Epoch 6/30\n",
      "437/437 [==============================] - 5s 12ms/step - loss: 0.0214 - accuracy: 0.9931\n",
      "Epoch 7/30\n",
      "437/437 [==============================] - 6s 13ms/step - loss: 0.0205 - accuracy: 0.9941\n",
      "Epoch 8/30\n",
      "437/437 [==============================] - 6s 13ms/step - loss: 0.0250 - accuracy: 0.9921\n",
      "Epoch 9/30\n",
      "437/437 [==============================] - 6s 13ms/step - loss: 0.0216 - accuracy: 0.9935\n",
      "Epoch 10/30\n",
      "437/437 [==============================] - 5s 12ms/step - loss: 0.0189 - accuracy: 0.9944\n",
      "Epoch 11/30\n",
      "437/437 [==============================] - 5s 12ms/step - loss: 0.0181 - accuracy: 0.9946\n",
      "Epoch 12/30\n",
      "437/437 [==============================] - 5s 12ms/step - loss: 0.0194 - accuracy: 0.9944\n",
      "Epoch 13/30\n",
      "437/437 [==============================] - 5s 12ms/step - loss: 0.0200 - accuracy: 0.9941\n",
      "Epoch 14/30\n",
      "437/437 [==============================] - 6s 13ms/step - loss: 0.0201 - accuracy: 0.9935\n",
      "Epoch 15/30\n",
      "437/437 [==============================] - 5s 12ms/step - loss: 0.0175 - accuracy: 0.9948\n",
      "Epoch 16/30\n",
      "437/437 [==============================] - 6s 13ms/step - loss: 0.0177 - accuracy: 0.9951\n",
      "Epoch 17/30\n",
      "437/437 [==============================] - 5s 12ms/step - loss: 0.0176 - accuracy: 0.9945\n",
      "Epoch 18/30\n",
      "437/437 [==============================] - 5s 12ms/step - loss: 0.0175 - accuracy: 0.9947\n",
      "Epoch 19/30\n",
      "437/437 [==============================] - 6s 13ms/step - loss: 0.0189 - accuracy: 0.9944\n",
      "Epoch 20/30\n",
      "437/437 [==============================] - 5s 12ms/step - loss: 0.0149 - accuracy: 0.9957\n",
      "Epoch 21/30\n",
      "437/437 [==============================] - 5s 11ms/step - loss: 0.0180 - accuracy: 0.9948\n",
      "Epoch 22/30\n",
      "437/437 [==============================] - 5s 11ms/step - loss: 0.0159 - accuracy: 0.9956\n",
      "Epoch 23/30\n",
      "437/437 [==============================] - 5s 11ms/step - loss: 0.0128 - accuracy: 0.9961\n",
      "Epoch 24/30\n",
      "437/437 [==============================] - 5s 12ms/step - loss: 0.0172 - accuracy: 0.9951\n",
      "Epoch 25/30\n",
      "437/437 [==============================] - 5s 12ms/step - loss: 0.0208 - accuracy: 0.9941\n",
      "Epoch 26/30\n",
      "437/437 [==============================] - 5s 12ms/step - loss: 0.0141 - accuracy: 0.9953\n",
      "Epoch 27/30\n",
      "437/437 [==============================] - 5s 11ms/step - loss: 0.0114 - accuracy: 0.9965\n",
      "Epoch 28/30\n",
      "437/437 [==============================] - 6s 13ms/step - loss: 0.0132 - accuracy: 0.9963\n",
      "Epoch 29/30\n",
      "437/437 [==============================] - 5s 12ms/step - loss: 0.0110 - accuracy: 0.9967\n",
      "Epoch 30/30\n",
      "437/437 [==============================] - 5s 12ms/step - loss: 0.0115 - accuracy: 0.9966\n"
     ]
    },
    {
     "data": {
      "text/plain": [
       "<keras.callbacks.History at 0x151d3d022110>"
      ]
     },
     "execution_count": 16,
     "metadata": {},
     "output_type": "execute_result"
    }
   ],
   "source": [
    "model.fit(X_train_full, y_train_full, epochs=30, class_weight={0:1.0, 1:4.0})"
   ]
  },
  {
   "cell_type": "code",
   "execution_count": 17,
   "id": "8aef699c",
   "metadata": {},
   "outputs": [
    {
     "data": {
      "text/plain": [
       "<matplotlib.legend.Legend at 0x151d26d6fbd0>"
      ]
     },
     "execution_count": 17,
     "metadata": {},
     "output_type": "execute_result"
    },
    {
     "data": {
      "image/png": "[encoded data removed]",
      "text/plain": [
       "<Figure size 640x480 with 1 Axes>"
      ]
     },
     "metadata": {},
     "output_type": "display_data"
    }
   ],
   "source": [
    "df = pd.DataFrame(model.history.history)\n",
    "plt.plot(df, '-o', label=df.columns.tolist())\n",
    "plt.legend()"
   ]
  },
  {
   "cell_type": "code",
   "execution_count": 18,
   "id": "2c46a573",
   "metadata": {},
   "outputs": [
    {
     "name": "stdout",
     "output_type": "stream",
     "text": [
      "110/110 [==============================] - 1s 5ms/step\n"
     ]
    }
   ],
   "source": [
    "y_pred = np.int64(np.round(model.predict(X_test_full)))"
   ]
  },
  {
   "cell_type": "code",
   "execution_count": 19,
   "id": "31129d03",
   "metadata": {},
   "outputs": [],
   "source": [
    "#df2 = pd.DataFrame({'Prediction':y_pred.flatten(),'Test':y_test.flatten()})\n",
    "\n",
    "#y_pred = y_pred.flatten()\n",
    "#y_comp = y_test.flatten()"
   ]
  },
  {
   "cell_type": "code",
   "execution_count": 21,
   "id": "3ecbb390",
   "metadata": {},
   "outputs": [
    {
     "data": {
      "text/plain": [
       "0.9951303351475222"
      ]
     },
     "execution_count": 21,
     "metadata": {},
     "output_type": "execute_result"
    }
   ],
   "source": [
    "from sklearn.metrics import accuracy_score\n",
    "from sklearn.metrics import confusion_matrix, ConfusionMatrixDisplay\n",
    "\n",
    "accuracy_score(y_test_full, y_pred)"
   ]
  },
  {
   "cell_type": "code",
   "execution_count": 25,
   "id": "11b99d7a",
   "metadata": {},
   "outputs": [
    {
     "data": {
      "text/plain": [
       "(157, 154)"
      ]
     },
     "execution_count": 25,
     "metadata": {},
     "output_type": "execute_result"
    }
   ],
   "source": [
    "np.count_nonzero(y_pred), np.count_nonzero(y_test_full)"
   ]
  },
  {
   "cell_type": "code",
   "execution_count": 26,
   "id": "bb66ba91",
   "metadata": {},
   "outputs": [
    {
     "data": {
      "text/plain": [
       "<sklearn.metrics._plot.confusion_matrix.ConfusionMatrixDisplay at 0x151cebc48850>"
      ]
     },
     "execution_count": 26,
     "metadata": {},
     "output_type": "execute_result"
    },
    {
     "data": {
      "image/png": "[encoded data removed]",
      "text/plain": [
       "<Figure size 640x480 with 2 Axes>"
      ]
     },
     "metadata": {},
     "output_type": "display_data"
    }
   ],
   "source": [
    "cm1 = confusion_matrix(y_pred, y_test_full, labels=[0, 1])\n",
    "disp1 = ConfusionMatrixDisplay(cm1, display_labels=[\"NE\", \"E\"])\n",
    "\n",
    "disp1.plot()\n",
    "#plt.subplot( figsize=(12,5))\n",
    "#plt.grid(False)\n",
    "##disp1.plot(cmap=\"Blues\")\n",
    "#plt.gcf().autofmt_xdate()\n",
    "#plt.tight_layout()"
   ]
  },
  {
   "cell_type": "code",
   "execution_count": 32,
   "id": "392c052b",
   "metadata": {},
   "outputs": [
    {
     "name": "stdout",
     "output_type": "stream",
     "text": [
      "TPR == [0.99790042 0.93630573]\n",
      "FPR == [0.06369427 0.00209958]\n",
      "\n",
      "ACC == [0.99513034 0.99513034]\n",
      "BA == [0.99513034 0.99513034]\n",
      "MCC == [0.94297254 0.94297254]\n"
     ]
    }
   ],
   "source": [
    "def metrics_from_confusion_matrix(cm):\n",
    "    FP = cm.sum(axis=0) - np.diag(cm)  \n",
    "    FN = cm.sum(axis=1) - np.diag(cm)\n",
    "    TP = np.diag(cm)\n",
    "    TN = cm.sum() - (FP + FN + TP)\n",
    "    \n",
    "    TPR = TP/(TP+FN)    # Sensitivity, hit rate, recall, or true positive rate\n",
    "    TNR = TN/(TN+FP)    # Specificity or true negative rate\n",
    "    PPV = TP/(TP+FP)    # Precision or positive predictive value\n",
    "    NPV = TN/(TN+FN)    # Negative predictive value\n",
    "    FPR = FP/(FP+TN)    # Fall out or false positive rate\n",
    "    FNR = FN/(TP+FN)    # False negative rate\n",
    "    FDR = FP/(TP+FP)    # False discovery rate \n",
    "    # Overall accuracy\n",
    "    ACC = (TP+TN)/(TP+FP+FN+TN)\n",
    "    BA = (TPR+TNR)/2\n",
    "    MCC = (TP*TN)/np.sqrt((TP+FP)*(TP+FN)*(TN+FP)*(TN+FN))\n",
    "    print(f'TPR == {TPR}')\n",
    "    print(f'FPR == {FPR}\\n')\n",
    "    print(f'ACC == {ACC}')\n",
    "    print(f'BA == {ACC}')\n",
    "    print(f'MCC == {MCC}')\n",
    "    \n",
    "metrics_from_confusion_matrix(cm1)"
   ]
  },
  {
   "cell_type": "code",
   "execution_count": 43,
   "id": "08d5b878",
   "metadata": {},
   "outputs": [],
   "source": [
    "model.save(\"DGene_model.h5\")"
   ]
  },
  {
   "cell_type": "markdown",
   "id": "1f27a4b7",
   "metadata": {},
   "source": [
    "test on full DepMap"
   ]
  },
  {
   "cell_type": "code",
   "execution_count": 44,
   "id": "8b514ba6",
   "metadata": {},
   "outputs": [],
   "source": [
    "model = keras.models.load_model(\"DGene_model.h5\")"
   ]
  },
  {
   "cell_type": "code",
   "execution_count": 37,
   "id": "0da0cbe3",
   "metadata": {},
   "outputs": [],
   "source": [
    "data_2 =pd.read_csv(\"/home/emanuele/Postdoc_ICAR/results/test_programs/test_EnGene/CRISPRGeneEffect.csv\", index_col=0)\n",
    "data_2 = data_2.T"
   ]
  },
  {
   "cell_type": "code",
   "execution_count": 38,
   "id": "2512115e",
   "metadata": {},
   "outputs": [],
   "source": [
    "data_full = data_2.to_numpy()"
   ]
  },
  {
   "cell_type": "code",
   "execution_count": 47,
   "id": "31ebf1da",
   "metadata": {},
   "outputs": [],
   "source": [
    "X_train_full, X_test_full, y_train_full, y_test_full  = train_test_split(data_full, y_full,  test_size=0.20, random_state=42)"
   ]
  },
  {
   "cell_type": "code",
   "execution_count": 48,
   "id": "94281a1c",
   "metadata": {},
   "outputs": [
    {
     "data": {
      "text/plain": [
       "(13962, 1078)"
      ]
     },
     "execution_count": 48,
     "metadata": {},
     "output_type": "execute_result"
    }
   ],
   "source": [
    "X_train_full.shape"
   ]
  },
  {
   "cell_type": "code",
   "execution_count": 55,
   "id": "98455083",
   "metadata": {},
   "outputs": [
    {
     "data": {
      "text/plain": [
       "<KerasTensor: shape=(None, 32) dtype=float32 (created by layer 'flatten_input')>"
      ]
     },
     "execution_count": 55,
     "metadata": {},
     "output_type": "execute_result"
    }
   ],
   "source": [
    "model.input"
   ]
  }
 ],
 "metadata": {
  "kernelspec": {
   "display_name": "Python 3 (ipykernel)",
   "language": "python",
   "name": "python3"
  },
  "language_info": {
   "codemirror_mode": {
    "name": "ipython",
    "version": 3
   },
   "file_extension": ".py",
   "mimetype": "text/x-python",
   "name": "python",
   "nbconvert_exporter": "python",
   "pygments_lexer": "ipython3",
   "version": "3.8.10"
  }
 },
 "nbformat": 4,
 "nbformat_minor": 5
}
